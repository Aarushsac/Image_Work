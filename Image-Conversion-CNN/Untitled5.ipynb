{
  "nbformat": 4,
  "nbformat_minor": 0,
  "metadata": {
    "colab": {
      "provenance": []
    },
    "kernelspec": {
      "name": "python3",
      "display_name": "Python 3"
    },
    "language_info": {
      "name": "python"
    }
  },
  "cells": [
    {
      "cell_type": "markdown",
      "source": [
        "#Conversion of images to array's"
      ],
      "metadata": {
        "id": "3IQiQsqkYyL0"
      }
    },
    {
      "cell_type": "markdown",
      "source": [
        "##Black and White Image"
      ],
      "metadata": {
        "id": "B59SjMU5Y5un"
      }
    },
    {
      "cell_type": "code",
      "execution_count": 1,
      "metadata": {
        "colab": {
          "base_uri": "https://localhost:8080/"
        },
        "id": "NGE_qQz9YxvS",
        "outputId": "51771039-8886-4386-8ce9-b872d28fc5cd"
      },
      "outputs": [
        {
          "output_type": "stream",
          "name": "stdout",
          "text": [
            "[[212 213 216 ... 107 106 106]\n",
            " [210 212 214 ... 104 104 103]\n",
            " [207 209 211 ... 100 100  99]\n",
            " ...\n",
            " [ 13  13  14 ...  36  36  36]\n",
            " [ 13  13  13 ...  39  38  36]\n",
            " [ 12  12  13 ...  39  37  34]]\n"
          ]
        }
      ],
      "source": [
        "from PIL import Image\n",
        "import numpy as np\n",
        "\n",
        "# Load the black and white image\n",
        "image = Image.open('images.jpg').convert('L')  # 'L' mode ensures grayscale\n",
        "\n",
        "# Convert the image to a NumPy 2D array\n",
        "image_array = np.array(image)\n",
        "\n",
        "# Print or check the 2D array\n",
        "print(image_array)\n"
      ]
    },
    {
      "cell_type": "markdown",
      "source": [
        "##Coloured Image"
      ],
      "metadata": {
        "id": "_4H468aAZWQT"
      }
    },
    {
      "cell_type": "code",
      "source": [
        "from PIL import Image\n",
        "import numpy as np\n",
        "\n",
        "# Load the black and white image\n",
        "image = Image.open('images1.jpg')\n",
        "\n",
        "# Convert the image to a NumPy 3D array\n",
        "image_array = np.array(image)\n",
        "\n",
        "# Print or check the 3D array\n",
        "print(image_array)\n"
      ],
      "metadata": {
        "colab": {
          "base_uri": "https://localhost:8080/"
        },
        "id": "wYh4ugDkZXzo",
        "outputId": "c469fc61-77e9-4b96-aaa7-3b3a6e2e449b"
      },
      "execution_count": 7,
      "outputs": [
        {
          "output_type": "stream",
          "name": "stdout",
          "text": [
            "[[[ 3  3  3]\n",
            "  [ 3  3  3]\n",
            "  [ 3  3  3]\n",
            "  ...\n",
            "  [ 2  7 26]\n",
            "  [ 2  7 26]\n",
            "  [ 2  7 26]]\n",
            "\n",
            " [[ 3  3  3]\n",
            "  [ 3  3  3]\n",
            "  [ 3  3  3]\n",
            "  ...\n",
            "  [ 2  7 26]\n",
            "  [ 2  7 26]\n",
            "  [ 2  7 26]]\n",
            "\n",
            " [[ 3  3  3]\n",
            "  [ 3  3  3]\n",
            "  [ 3  3  3]\n",
            "  ...\n",
            "  [ 2  7 26]\n",
            "  [ 2  7 26]\n",
            "  [ 2  7 26]]\n",
            "\n",
            " ...\n",
            "\n",
            " [[ 2  2  0]\n",
            "  [ 5  5  3]\n",
            "  [10 11  6]\n",
            "  ...\n",
            "  [ 3  3  3]\n",
            "  [ 3  3  3]\n",
            "  [ 3  3  3]]\n",
            "\n",
            " [[ 2  2  0]\n",
            "  [ 5  5  3]\n",
            "  [10 11  6]\n",
            "  ...\n",
            "  [ 3  3  3]\n",
            "  [ 3  3  3]\n",
            "  [ 3  3  3]]\n",
            "\n",
            " [[ 2  2  0]\n",
            "  [ 5  5  3]\n",
            "  [10 11  6]\n",
            "  ...\n",
            "  [ 3  3  3]\n",
            "  [ 3  3  3]\n",
            "  [ 3  3  3]]]\n"
          ]
        }
      ]
    }
  ]
}